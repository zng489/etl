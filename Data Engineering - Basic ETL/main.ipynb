{
 "cells": [
  {
   "cell_type": "code",
   "execution_count": 100,
   "id": "9b7a69ae",
   "metadata": {},
   "outputs": [
    {
     "name": "stdout",
     "output_type": "stream",
     "text": [
      "{'data_height': [640, 320, 160]}\n",
      "[{'data_height': 640}, {'data_height': 320}, {'data_height': 160}]\n"
     ]
    },
    {
     "data": {
      "text/html": [
       "<div>\n",
       "<style scoped>\n",
       "    .dataframe tbody tr th:only-of-type {\n",
       "        vertical-align: middle;\n",
       "    }\n",
       "\n",
       "    .dataframe tbody tr th {\n",
       "        vertical-align: top;\n",
       "    }\n",
       "\n",
       "    .dataframe thead th {\n",
       "        text-align: right;\n",
       "    }\n",
       "</style>\n",
       "<table border=\"1\" class=\"dataframe\">\n",
       "  <thead>\n",
       "    <tr style=\"text-align: right;\">\n",
       "      <th></th>\n",
       "      <th>data_height</th>\n",
       "    </tr>\n",
       "  </thead>\n",
       "  <tbody>\n",
       "    <tr>\n",
       "      <th>0</th>\n",
       "      <td>640</td>\n",
       "    </tr>\n",
       "    <tr>\n",
       "      <th>1</th>\n",
       "      <td>320</td>\n",
       "    </tr>\n",
       "    <tr>\n",
       "      <th>2</th>\n",
       "      <td>160</td>\n",
       "    </tr>\n",
       "  </tbody>\n",
       "</table>\n",
       "</div>"
      ],
      "text/plain": [
       "   data_height\n",
       "0          640\n",
       "1          320\n",
       "2          160"
      ]
     },
     "execution_count": 100,
     "metadata": {},
     "output_type": "execute_result"
    }
   ],
   "source": [
    "import sqlalchemy\n",
    "from sqlalchemy.orm import sessionmaker\n",
    "\n",
    "\n",
    "\n",
    "import pandas as pd\n",
    "import numpy as np\n",
    "import requests\n",
    "import json\n",
    "from datetime import datetime\n",
    "import datetime\n",
    "\n",
    "\n",
    "#DATABASE_LOCATION = \n",
    "#USER_ID = \"\"\n",
    "TOKEN = \"BQCmX7ZGLSToAPG5QTW8tQb86j0N4h5k3zTtBQQWhhqkJdibvwOjUnSBR_5rQeWyxua0Osfq-7rZPnPVnYWXuQiRe6Rw3_0ayYKnfYJkNNfq1mk7y-nqWmxyjXljvV9Ko_c5TNlQRVkuQRNlVBiHBgHQ3P6KuvnNnYljRHuBL8KMvqD_ph2v4FHbBg\"\n",
    "\n",
    "\n",
    "#####################################################################################################\n",
    "\n",
    "def check_if_valid_data(df: pd.DataFrame) -> bool:\n",
    "    \n",
    "    # Check if dataframe is empty\n",
    "    if df.empty:\n",
    "        print('No downloaded')  \n",
    "        return False\n",
    "    \n",
    "    # Primary Key Check\n",
    "    if pd.Series(df['played_at']).is_unique:\n",
    "        pass\n",
    "    else:\n",
    "        raise Exception(\"Primary Key Check is violated\")\n",
    "        \n",
    "    # Check for nulls\n",
    "    if df.isnull().values.any():\n",
    "        raise Exception(\"Null valued found\")\n",
    "        \n",
    "    # Check that all timestamps are of yesterday`s date\n",
    "    yesterday = datetime.datetime.now() - datetime.timedelta(days=1)\n",
    "    yesterday = yesterday.replace(hour=0, minute=0, second=0, microsecond=0)\n",
    "        \n",
    "    timestamps = df[\"timestamp\"].tolist()\n",
    "    for timestamp in timestamps:\n",
    "        if datetime.datetime.strptime(timestamp, \"%Y-%m-%d\") != yesterday:\n",
    "            rase Exception(\"At least one of the returned songs does not come from within the last 24 hours\")\n",
    "    \n",
    "#####################################################################################################\n",
    "\n",
    "\n",
    "    \n",
    "if __name__ == \"__main__\":\n",
    "    headers = {\n",
    "        \"Accept\" : \"application/json\",\n",
    "        \"Content-Type\" : \"application/json\",\n",
    "        \"Authorization\" : \"Bearer {token}\".format(token=TOKEN) \n",
    "    }\n",
    "\n",
    "today = datetime.datetime.now()\n",
    "yesterday = today - datetime.timedelta(days=1)\n",
    "yesterday_unix_timestamp = int(yesterday.timestamp()) * 1000\n",
    "\n",
    "# r = requests.get(\"https://api.spotify.com/v1/me/player/recently-played?after={time}\".format(time=yesterday_unix_timestamp), headers = headers)\n",
    "\n",
    "id = \"74XFHRwlV6OrjEM0A2NCMF\"\n",
    "\n",
    "r = requests.get(\"https://api.spotify.com/v1/artists/{id}\".format(id=id), headers = headers)\n",
    "\n",
    "\n",
    "data = r.json()\n",
    "\n",
    "#display(data)\n",
    "\n",
    "# {'external_urls': {'spotify': 'https://open.spotify.com/artist/74XFHRwlV6OrjEM0A2NCMF'},\n",
    "#  'followers': {'href': None, 'total': 6375937},\n",
    "#  'genres': ['candy pop', 'pixie', 'pop emo', 'pop punk'],\n",
    "#  'href': 'https://api.spotify.com/v1/artists/74XFHRwlV6OrjEM0A2NCMF',\n",
    "#  'id': '74XFHRwlV6OrjEM0A2NCMF',\n",
    "#  'images': [{'height': 640,\n",
    "#    'url': 'https://i.scdn.co/image/ab6761610000e5eb7052afa024fc4297bb55d483',\n",
    "#    'width': 640},\n",
    "#   {'height': 320,\n",
    "#    'url': 'https://i.scdn.co/image/ab676161000051747052afa024fc4297bb55d483',\n",
    "#    'width': 320},\n",
    "#   {'height': 160,\n",
    "#    'url': 'https://i.scdn.co/image/ab6761610000f1787052afa024fc4297bb55d483',\n",
    "#    'width': 160}],\n",
    "#  'name': 'Paramore',\n",
    "#  'popularity': 79,\n",
    "#  'type': 'artist',\n",
    "#  'uri': 'spotify:artist:74XFHRwlV6OrjEM0A2NCMF'}\n",
    "\n",
    "\n",
    "'''\n",
    "print(data['images'][0])\n",
    "print(data['images'][0]['height'])\n",
    "\n",
    "print(data['images'][1])\n",
    "print(data['images'][1]['height'])\n",
    "'''\n",
    "\n",
    "\n",
    "#print(data['images'][0:3]['height'])\n",
    "\n",
    "\n",
    "\n",
    "height = []\n",
    "\n",
    "for each_data in data['images'][0:3]:\n",
    "    height.append(each_data['height'])\n",
    "    data_dict = {'data_height' : height}\n",
    "print(data_dict)\n",
    "\n",
    "\n",
    "\n",
    "height_1 = []\n",
    "\n",
    "for each_data in data['images'][0:3]:\n",
    "    each_data['height']\n",
    "    #print(each_data)\n",
    "    data_dict = {'data_height' : each_data['height']}\n",
    "    height_1.append(data_dict)\n",
    "print(height_1)\n",
    "\n",
    "\n",
    "\n",
    "df = pd.DataFrame(height_1)\n",
    "\n",
    "# Validate\n",
    "if check_if_valid_data(song_df):\n",
    "    print(\"Data valid, proceed to\")\n",
    "    \n",
    "    \n",
    "# Load\n",
    "# ......\n",
    "# https://www.youtube.com/watch?v=rvPtpOjzVTQ&t=10s\n",
    "https://www.youtube.com/watch?v=ajrtAuDg3yw\n",
    "# Job Scheduling\n",
    "https://stackoverflow.com/questions/14379753/what-does-mean-in-python-function-definitions\n",
    "# ....\n"
   ]
  },
  {
   "cell_type": "code",
   "execution_count": 98,
   "id": "6522bdc9",
   "metadata": {},
   "outputs": [],
   "source": [
    "def check_if_valid_data():\n",
    "    \n",
    "    return"
   ]
  },
  {
   "cell_type": "code",
   "execution_count": 99,
   "id": "aa2e2667",
   "metadata": {},
   "outputs": [],
   "source": [
    "check_if_valid_data()"
   ]
  },
  {
   "cell_type": "code",
   "execution_count": 102,
   "id": "719f2f49",
   "metadata": {},
   "outputs": [
    {
     "data": {
      "text/plain": [
       "{'m': 'in KG', 'return': 'Joules', 'v': 'in M/S'}"
      ]
     },
     "execution_count": 102,
     "metadata": {},
     "output_type": "execute_result"
    }
   ],
   "source": [
    "def kinetic_energy(m:'in KG', v:'in M/S')->'Joules': \n",
    "    return 1/2*m*v**2\n",
    " \n",
    "kinetic_energy.__annotations__"
   ]
  },
  {
   "cell_type": "code",
   "execution_count": 103,
   "id": "d550f7ce",
   "metadata": {},
   "outputs": [
    {
     "data": {
      "text/plain": [
       "9.0"
      ]
     },
     "execution_count": 103,
     "metadata": {},
     "output_type": "execute_result"
    }
   ],
   "source": [
    "kinetic_energy(2,3)"
   ]
  },
  {
   "cell_type": "code",
   "execution_count": null,
   "id": "5ecfd9be",
   "metadata": {},
   "outputs": [],
   "source": []
  }
 ],
 "metadata": {
  "kernelspec": {
   "display_name": "Python 3",
   "language": "python",
   "name": "python3"
  },
  "language_info": {
   "codemirror_mode": {
    "name": "ipython",
    "version": 3
   },
   "file_extension": ".py",
   "mimetype": "text/x-python",
   "name": "python",
   "nbconvert_exporter": "python",
   "pygments_lexer": "ipython3",
   "version": "3.5.6"
  }
 },
 "nbformat": 4,
 "nbformat_minor": 5
}
